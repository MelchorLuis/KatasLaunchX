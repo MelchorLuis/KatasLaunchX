{
 "cells": [
  {
   "cell_type": "markdown",
   "metadata": {},
   "source": [
    "# Ejercicio 1"
   ]
  },
  {
   "cell_type": "code",
   "execution_count": 1,
   "metadata": {},
   "outputs": [
    {
     "name": "stdout",
     "output_type": "stream",
     "text": [
      "La distancia entre jupiter y la tierra en kilometros es de: 628949330\n",
      "La distancia entre jupiter y la tierra en millas es de: 390577533.93\n"
     ]
    }
   ],
   "source": [
    "tierra = 149597870\n",
    "jupiter = 778547200\n",
    "distancia_km = jupiter - tierra\n",
    "print(\"La distancia entre jupiter y la tierra en kilometros es de: \" + str(distancia_km))\n",
    "distancia_millas = distancia_km * 0.621\n",
    "print(\"La distancia entre jupiter y la tierra en millas es de: \" + str(distancia_millas))"
   ]
  },
  {
   "cell_type": "markdown",
   "metadata": {},
   "source": [
    "# Ejercicio 2"
   ]
  },
  {
   "cell_type": "code",
   "execution_count": 5,
   "metadata": {},
   "outputs": [
    {
     "name": "stdout",
     "output_type": "stream",
     "text": [
      "-56651631\n",
      "35180662.851\n"
     ]
    }
   ],
   "source": [
    "planeta1 = input(\"Introduzca distancia del planeta 1: \")\n",
    "planeta2 = input(\"Introduzca distancia del planeta 2: \")\n",
    "\n",
    "planeta1int = int(planeta1)\n",
    "planeta2int = int(planeta2)\n",
    "\n",
    "distanciakm = planeta2int - planeta1int\n",
    "print(distanciakm)\n",
    "\n",
    "\n",
    "distanciamillas = distanciakm * 0.621\n",
    "print(abs(distanciamillas))"
   ]
  }
 ],
 "metadata": {
  "interpreter": {
   "hash": "625f9a50e09b02baee00ae5a171c414f29018fa9410b024382fe0c30cc9de462"
  },
  "kernelspec": {
   "display_name": "Python 3.10.2 64-bit",
   "language": "python",
   "name": "python3"
  },
  "language_info": {
   "codemirror_mode": {
    "name": "ipython",
    "version": 3
   },
   "file_extension": ".py",
   "mimetype": "text/x-python",
   "name": "python",
   "nbconvert_exporter": "python",
   "pygments_lexer": "ipython3",
   "version": "3.10.2"
  },
  "orig_nbformat": 4
 },
 "nbformat": 4,
 "nbformat_minor": 2
}
