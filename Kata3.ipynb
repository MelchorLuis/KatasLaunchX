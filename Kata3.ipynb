{
 "cells": [
  {
   "cell_type": "markdown",
   "metadata": {},
   "source": [
    "# Ejercicio 1"
   ]
  },
  {
   "cell_type": "code",
   "execution_count": 7,
   "metadata": {},
   "outputs": [
    {
     "name": "stdout",
     "output_type": "stream",
     "text": [
      "Ahi viene bien rapido cuidado aaaaaaaaaaaa\n"
     ]
    }
   ],
   "source": [
    "asteroide = 49\n",
    "if asteroide > 25:\n",
    "    print(\"Ahi viene bien rapido cuidado aaaaaaaaaaaa\")\n",
    "else:\n",
    "    print(\"ez asteroide bot\")"
   ]
  },
  {
   "cell_type": "markdown",
   "metadata": {},
   "source": [
    "# Ejercicio 2 "
   ]
  },
  {
   "cell_type": "code",
   "execution_count": 6,
   "metadata": {},
   "outputs": [
    {
     "name": "stdout",
     "output_type": "stream",
     "text": [
      "ez asteroide bot\n"
     ]
    }
   ],
   "source": [
    "asteroide = 19\n",
    "if asteroide > 20:\n",
    "    print(\"Ira como en Your Name\")\n",
    "elif asteroide == 20:\n",
    "    print(\"Ira como en Your Name x2\")\n",
    "else:\n",
    "    print(\"ez asteroide bot\")\n"
   ]
  },
  {
   "cell_type": "markdown",
   "metadata": {},
   "source": [
    "# Ejercicio 3"
   ]
  },
  {
   "cell_type": "code",
   "execution_count": 5,
   "metadata": {},
   "outputs": [
    {
     "name": "stdout",
     "output_type": "stream",
     "text": [
      "Ira como en Your Name\n"
     ]
    }
   ],
   "source": [
    "asteroidevelo = 25\n",
    "asteroidetam = 40\n",
    "if asteroidevelo > 25 and asteroidetam > 25:\n",
    "    print(\"Ahi viene bien rapido cuidado aaaaaaaaaaaa\")\n",
    "elif asteroidevelo >= 20:\n",
    "    print(\"Ira como en Your Name\")\n",
    "elif asteroidetam < 25:\n",
    "    print(\"ez asteroide bot\")\n",
    "else:\n",
    "    print(\"ez asteroide bot\")"
   ]
  }
 ],
 "metadata": {
  "interpreter": {
   "hash": "625f9a50e09b02baee00ae5a171c414f29018fa9410b024382fe0c30cc9de462"
  },
  "kernelspec": {
   "display_name": "Python 3.10.2 64-bit",
   "language": "python",
   "name": "python3"
  },
  "language_info": {
   "codemirror_mode": {
    "name": "ipython",
    "version": 3
   },
   "file_extension": ".py",
   "mimetype": "text/x-python",
   "name": "python",
   "nbconvert_exporter": "python",
   "pygments_lexer": "ipython3",
   "version": "3.10.2"
  },
  "orig_nbformat": 4
 },
 "nbformat": 4,
 "nbformat_minor": 2
}
